{
  "nbformat": 4,
  "nbformat_minor": 0,
  "metadata": {
    "colab": {
      "provenance": [],
      "authorship_tag": "ABX9TyM6SoMrErBzwSNNU+xckfrb",
      "include_colab_link": true
    },
    "kernelspec": {
      "name": "python3",
      "display_name": "Python 3"
    },
    "language_info": {
      "name": "python"
    }
  },
  "cells": [
    {
      "cell_type": "markdown",
      "metadata": {
        "id": "view-in-github",
        "colab_type": "text"
      },
      "source": [
        "<a href=\"https://colab.research.google.com/github/KILjungjoon/Political-Speeches/blob/main/Detecting_Singaporean_Politicians_with_Wiki_api.ipynb\" target=\"_parent\"><img src=\"https://colab.research.google.com/assets/colab-badge.svg\" alt=\"Open In Colab\"/></a>"
      ]
    },
    {
      "cell_type": "code",
      "execution_count": 14,
      "metadata": {
        "colab": {
          "base_uri": "https://localhost:8080/"
        },
        "id": "RjSjbtHXCnbm",
        "outputId": "c6c776c5-0892-4ff9-e7ff-3d58e9605339"
      },
      "outputs": [
        {
          "output_type": "stream",
          "name": "stdout",
          "text": [
            "Looking in indexes: https://pypi.org/simple, https://us-python.pkg.dev/colab-wheels/public/simple/\n",
            "Requirement already satisfied: wikipedia-api in /usr/local/lib/python3.7/dist-packages (0.5.4)\n",
            "Requirement already satisfied: requests in /usr/local/lib/python3.7/dist-packages (from wikipedia-api) (2.23.0)\n",
            "Requirement already satisfied: chardet<4,>=3.0.2 in /usr/local/lib/python3.7/dist-packages (from requests->wikipedia-api) (3.0.4)\n",
            "Requirement already satisfied: certifi>=2017.4.17 in /usr/local/lib/python3.7/dist-packages (from requests->wikipedia-api) (2022.9.24)\n",
            "Requirement already satisfied: idna<3,>=2.5 in /usr/local/lib/python3.7/dist-packages (from requests->wikipedia-api) (2.10)\n",
            "Requirement already satisfied: urllib3!=1.25.0,!=1.25.1,<1.26,>=1.21.1 in /usr/local/lib/python3.7/dist-packages (from requests->wikipedia-api) (1.24.3)\n"
          ]
        }
      ],
      "source": [
        "!pip install wikipedia-api"
      ]
    },
    {
      "cell_type": "code",
      "source": [
        "import wikipediaapi\n",
        "wiki=wikipediaapi.Wikipedia('en')"
      ],
      "metadata": {
        "id": "iRsyKdBwC0QN"
      },
      "execution_count": 15,
      "outputs": []
    },
    {
      "cell_type": "code",
      "source": [
        "names=['Raymond Lim Siang Keat','Lee Bee Wah']\n",
        "for name in names :\n",
        "  page_py = wiki.page(name)\n",
        "  print(name)\n",
        "  print(\"Page - Exists: %s\" % page_py.exists())\n",
        "  print(\"Page - Title: %s\" % page_py.title)\n",
        "  print(\"Page - Summary: %s\" % page_py.summary[0:200])"
      ],
      "metadata": {
        "colab": {
          "base_uri": "https://localhost:8080/"
        },
        "id": "fUtbLC6JDA4O",
        "outputId": "ea760f12-95ea-4c1e-a8d2-a86af1a9adc6"
      },
      "execution_count": 3,
      "outputs": [
        {
          "output_type": "stream",
          "name": "stdout",
          "text": [
            "Raymond Lim Siang Keat\n",
            "Page - Exists: True\n",
            "Page - Title: Raymond Lim\n",
            "Page - Summary: Raymond Lim Siang Keat (Chinese: 林双吉; pinyin: Lín Shuāngjí, born 24 June 1959) is a former Singaporean politician. A member of the governing People's Action Party (PAP), Lim has been a Member of Parli\n",
            "Lee Bee Wah\n",
            "Page - Exists: True\n",
            "Page - Title: Lee Bee Wah\n",
            "Page - Summary: Lee Bee Wah (Chinese: 李美花; pinyin: Lǐ Měihuā; born 6 October 1960), also known as Huajie (Chinese: 花姐; pinyin: Huājiě; lit. 'Sister Flower'), is a Malaysian-born Singaporean retired politician and eng\n"
          ]
        }
      ]
    },
    {
      "cell_type": "code",
      "source": [
        "# How to detect s/he is a Singaprean politician\n",
        "wiki = wikipediaapi.Wikipedia(\n",
        "        language='en',\n",
        "        extract_format=wikipediaapi.ExtractFormat.WIKI)\n",
        "\n",
        "names=['Raymond Lim Siang Keat','Lee Bee Wah', 'Joe Baiden', 'Moon Jae-in']\n",
        "keywords=['Singaporean' , 'politician']\n",
        "for name in names :\n",
        "  p_wiki = wiki.page(name)\n",
        "  if 'Singaporean' in p_wiki.text and 'politician' in p_wiki.text:\n",
        "    print('True:',p_wiki.text[0:200])\n",
        "  else :\n",
        "    print('False!')"
      ],
      "metadata": {
        "colab": {
          "base_uri": "https://localhost:8080/"
        },
        "id": "VTS8H8pKEnzi",
        "outputId": "f0562cd7-8d70-4c45-c7e3-eb929c28b5ac"
      },
      "execution_count": 4,
      "outputs": [
        {
          "output_type": "stream",
          "name": "stdout",
          "text": [
            "True: Raymond Lim Siang Keat (Chinese: 林双吉; pinyin: Lín Shuāngjí, born 24 June 1959) is a former Singaporean politician. A member of the governing People's Action Party (PAP), Lim has been a Member of Parli\n",
            "True: Lee Bee Wah (Chinese: 李美花; pinyin: Lǐ Měihuā; born 6 October 1960), also known as Huajie (Chinese: 花姐; pinyin: Huājiě; lit. 'Sister Flower'), is a Malaysian-born Singaporean retired politician and eng\n",
            "False!\n",
            "False!\n"
          ]
        }
      ]
    }
  ]
}